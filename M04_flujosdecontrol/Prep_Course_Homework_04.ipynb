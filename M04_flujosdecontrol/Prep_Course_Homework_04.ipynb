{
 "cells": [
  {
   "attachments": {},
   "cell_type": "markdown",
   "metadata": {},
   "source": [
    "## Flujos de Control"
   ]
  },
  {
   "attachments": {},
   "cell_type": "markdown",
   "metadata": {},
   "source": [
    "1) Crear una variable que contenga un elemento del conjunto de números enteros y luego imprimir por pantalla si es mayor o menor a cero"
   ]
  },
  {
   "cell_type": "code",
   "execution_count": 58,
   "metadata": {},
   "outputs": [
    {
     "name": "stdout",
     "output_type": "stream",
     "text": [
      "es mayor a 0\n"
     ]
    }
   ],
   "source": [
    "var=3\n",
    "if var<0:\n",
    "    print(\"es menor a 0\")\n",
    "else:\n",
    "    print(\"es mayor a 0\")"
   ]
  },
  {
   "attachments": {},
   "cell_type": "markdown",
   "metadata": {},
   "source": [
    "2) Crear dos variables y un condicional que informe si son del mismo tipo de dato"
   ]
  },
  {
   "cell_type": "code",
   "execution_count": 59,
   "metadata": {},
   "outputs": [
    {
     "name": "stdout",
     "output_type": "stream",
     "text": [
      "las variables son el mismo tipo de dato\n"
     ]
    }
   ],
   "source": [
    "var1=6\n",
    "var2=4+2\n",
    "if var1==var2:\n",
    "    print(\"las variables son el mismo tipo de dato\")\n",
    "else:\n",
    "    print(\"las variables no son el mismo tipo de dato\")"
   ]
  },
  {
   "attachments": {},
   "cell_type": "markdown",
   "metadata": {},
   "source": [
    "3) Para los valores enteros del 1 al 20, imprimir por pantalla si es par o impar"
   ]
  },
  {
   "cell_type": "code",
   "execution_count": 60,
   "metadata": {},
   "outputs": [
    {
     "name": "stdout",
     "output_type": "stream",
     "text": [
      "el numero 1 es impar\n",
      "el numero 2 es par\n",
      "el numero 3 es impar\n",
      "el numero 4 es par\n",
      "el numero 5 es impar\n",
      "el numero 6 es par\n",
      "el numero 7 es impar\n",
      "el numero 8 es par\n",
      "el numero 9 es impar\n",
      "el numero 10 es par\n",
      "el numero 11 es impar\n",
      "el numero 12 es par\n",
      "el numero 13 es impar\n",
      "el numero 14 es par\n",
      "el numero 15 es impar\n",
      "el numero 16 es par\n",
      "el numero 17 es impar\n",
      "el numero 18 es par\n",
      "el numero 19 es impar\n",
      "el numero 20 es par\n"
     ]
    }
   ],
   "source": [
    "for var3 in range(1,21):\n",
    "    if var3 % 2 == 0:\n",
    "        print(\"el numero\",var3,\"es par\")\n",
    "    else:\n",
    "        print(\"el numero\",var3,\"es impar\")\n",
    "\n",
    "\n"
   ]
  },
  {
   "attachments": {},
   "cell_type": "markdown",
   "metadata": {},
   "source": [
    "4) En un ciclo for mostrar para los valores entre 0 y 5 el resultado de elevarlo a la potencia igual a 3"
   ]
  },
  {
   "cell_type": "code",
   "execution_count": 61,
   "metadata": {},
   "outputs": [
    {
     "name": "stdout",
     "output_type": "stream",
     "text": [
      "para el valor 0 la tercera potencia es 0\n",
      "para el valor 1 la tercera potencia es 1\n",
      "para el valor 2 la tercera potencia es 8\n",
      "para el valor 3 la tercera potencia es 27\n",
      "para el valor 4 la tercera potencia es 64\n",
      "para el valor 5 la tercera potencia es 125\n"
     ]
    }
   ],
   "source": [
    "for var4 in range(0,6):\n",
    "    print(\"para el valor\",var4,\"la tercera potencia es\",var4**3)\n",
    "    "
   ]
  },
  {
   "attachments": {},
   "cell_type": "markdown",
   "metadata": {},
   "source": [
    "5) Crear una variable que contenga un número entero y realizar un ciclo for la misma cantidad de ciclos"
   ]
  },
  {
   "cell_type": "code",
   "execution_count": 62,
   "metadata": {},
   "outputs": [
    {
     "name": "stdout",
     "output_type": "stream",
     "text": [
      "5\n"
     ]
    }
   ],
   "source": [
    "var5=6\n",
    "for i in range(var5):\n",
    "    continue\n",
    "print(i)\n"
   ]
  },
  {
   "attachments": {},
   "cell_type": "markdown",
   "metadata": {},
   "source": [
    "6) Utilizar un ciclo while para realizar el factorial de un número guardado en una variable, sólo si la variable contiene un número entero mayor a 0"
   ]
  },
  {
   "cell_type": "code",
   "execution_count": 220,
   "metadata": {},
   "outputs": [
    {
     "name": "stdout",
     "output_type": "stream",
     "text": [
      "el factorial es 120\n"
     ]
    }
   ],
   "source": [
    "var6=5\n",
    "x=2\n",
    "if type(var6)==int:\n",
    "    if var6>0:\n",
    "        factorial = var6\n",
    "        while var6 > 2:\n",
    "            var6-=1\n",
    "            factorial = factorial * var6\n",
    "    else:\n",
    "        print(\"el numero no es mayor a 0\")\n",
    "else:\n",
    "    print(\"el numero no es un entero\")                \n",
    "print(\"el factorial es\",factorial)\n",
    "    \n",
    "    "
   ]
  },
  {
   "attachments": {},
   "cell_type": "markdown",
   "metadata": {},
   "source": [
    "7) Crear un ciclo for dentro de un ciclo while"
   ]
  },
  {
   "cell_type": "code",
   "execution_count": 94,
   "metadata": {},
   "outputs": [
    {
     "name": "stdout",
     "output_type": "stream",
     "text": [
      "ciclo while n° 1\n",
      "ciclo for n° 1\n",
      "ciclo while n° 2\n",
      "ciclo for n° 2\n",
      "ciclo while n° 3\n",
      "ciclo for n° 3\n",
      "ciclo while n° 4\n",
      "ciclo for n° 4\n",
      "ciclo while n° 5\n",
      "ciclo for n° 5\n"
     ]
    }
   ],
   "source": [
    "var7=1\n",
    "while var7 <= 5:\n",
    "    print(\"ciclo while n°\",var7)\n",
    "    \n",
    "    for i in range(1,var7+1):\n",
    "        print(\"ciclo for n°\",var7)\n",
    "        break\n",
    "    var7+=1"
   ]
  },
  {
   "attachments": {},
   "cell_type": "markdown",
   "metadata": {},
   "source": [
    "8) Crear un ciclo while dentro de un ciclo for"
   ]
  },
  {
   "cell_type": "code",
   "execution_count": 134,
   "metadata": {},
   "outputs": [
    {
     "name": "stdout",
     "output_type": "stream",
     "text": [
      "ciclo for n° 3\n",
      "ciclo while n° 3\n",
      "ciclo for n° 4\n",
      "ciclo while n° 4\n",
      "ciclo for n° 5\n",
      "ciclo while n° 5\n"
     ]
    }
   ],
   "source": [
    "var8=3\n",
    "for i in range(var8):\n",
    "    print(\"ciclo for n°\",var8)\n",
    "    while var8<=6:\n",
    "        n=var8\n",
    "        print(\"ciclo while n°\",n)\n",
    "        n=var8+1\n",
    "        break\n",
    "    var8+=1"
   ]
  },
  {
   "attachments": {},
   "cell_type": "markdown",
   "metadata": {},
   "source": [
    "9) Imprimir los números primos existentes entre 0 y 30"
   ]
  },
  {
   "cell_type": "code",
   "execution_count": 147,
   "metadata": {},
   "outputs": [
    {
     "name": "stdout",
     "output_type": "stream",
     "text": [
      "0\n",
      "1\n",
      "2\n",
      "3\n",
      "5\n",
      "7\n",
      "11\n",
      "13\n",
      "17\n",
      "19\n",
      "23\n",
      "29\n"
     ]
    }
   ],
   "source": [
    "tope=30\n",
    "n=0\n",
    "primo=True\n",
    "while n < tope:\n",
    "    for i in range(2,n):\n",
    "        if n % i == 0:\n",
    "            primo=False\n",
    "    if primo:\n",
    "        print(n)\n",
    "    else:\n",
    "        primo = True\n",
    "    n+=1\n",
    "              \n",
    "              \n"
   ]
  },
  {
   "attachments": {},
   "cell_type": "markdown",
   "metadata": {},
   "source": [
    "10) ¿Se puede mejorar el proceso del punto 9? Utilizar las sentencias break y/ó continue para tal fin"
   ]
  },
  {
   "cell_type": "code",
   "execution_count": 152,
   "metadata": {},
   "outputs": [
    {
     "name": "stdout",
     "output_type": "stream",
     "text": [
      "0\n",
      "1\n",
      "2\n",
      "3\n",
      "5\n",
      "7\n",
      "11\n",
      "13\n",
      "17\n",
      "19\n",
      "23\n",
      "29\n"
     ]
    }
   ],
   "source": [
    "tope=30\n",
    "n=0\n",
    "primo=True\n",
    "while n < tope:\n",
    "    for i in range(2,n):\n",
    "        if n % i == 0:\n",
    "            primo=False\n",
    "            break\n",
    "    if primo:\n",
    "        print(n)\n",
    "        \n",
    "    else:\n",
    "        primo = True\n",
    "        \n",
    "    n+=1"
   ]
  },
  {
   "attachments": {},
   "cell_type": "markdown",
   "metadata": {},
   "source": [
    "11) En los puntos 9 y 10, se diseño un código que encuentra números primos y además se lo optimizó. ¿Es posible saber en qué medida se optimizó?"
   ]
  },
  {
   "cell_type": "code",
   "execution_count": 165,
   "metadata": {},
   "outputs": [
    {
     "name": "stdout",
     "output_type": "stream",
     "text": [
      "0\n",
      "1\n",
      "2\n",
      "3\n",
      "5\n",
      "7\n",
      "11\n",
      "13\n",
      "17\n",
      "19\n",
      "23\n",
      "29\n",
      "cantidad de ciclos sin break 378\n",
      "0\n",
      "1\n",
      "2\n",
      "3\n",
      "5\n",
      "7\n",
      "11\n",
      "13\n",
      "17\n",
      "19\n",
      "23\n",
      "29\n",
      "cantidad de ciclos con break 134\n"
     ]
    }
   ],
   "source": [
    "ciclos_sin_break=0\n",
    "tope=30\n",
    "n=0\n",
    "primo=True\n",
    "while n < tope:\n",
    "    for i in range(2,n):\n",
    "        ciclos_sin_break += 1\n",
    "        if n % i == 0:\n",
    "            primo=False\n",
    "    if primo:\n",
    "        print(n)\n",
    "    else:\n",
    "        primo = True\n",
    "    n+=1\n",
    "print(\"cantidad de ciclos sin break\",str(ciclos_sin_break))\n",
    "\n",
    "ciclos_con_break=0\n",
    "tope=30\n",
    "n=0\n",
    "primo=True\n",
    "while n < tope:\n",
    "    for i in range(2,n):\n",
    "        ciclos_con_break += 1\n",
    "        if n % i == 0:\n",
    "            primo=False\n",
    "            break\n",
    "    if primo:\n",
    "        print(n)\n",
    "    else:\n",
    "        primo = True\n",
    "    n+=1\n",
    "print(\"cantidad de ciclos con break\",str(ciclos_con_break))"
   ]
  },
  {
   "attachments": {},
   "cell_type": "markdown",
   "metadata": {},
   "source": [
    "12) Aplicando continue, armar un ciclo while que solo imprima los valores divisibles por 12, dentro del rango de números de 100 a 300"
   ]
  },
  {
   "cell_type": "code",
   "execution_count": 179,
   "metadata": {},
   "outputs": [
    {
     "name": "stdout",
     "output_type": "stream",
     "text": [
      "108 es divisible por 12\n",
      "120 es divisible por 12\n",
      "132 es divisible por 12\n",
      "144 es divisible por 12\n",
      "156 es divisible por 12\n",
      "168 es divisible por 12\n",
      "180 es divisible por 12\n",
      "192 es divisible por 12\n",
      "204 es divisible por 12\n",
      "216 es divisible por 12\n",
      "228 es divisible por 12\n",
      "240 es divisible por 12\n",
      "252 es divisible por 12\n",
      "264 es divisible por 12\n",
      "276 es divisible por 12\n",
      "288 es divisible por 12\n",
      "300 es divisible por 12\n"
     ]
    }
   ],
   "source": [
    "n=99\n",
    "while n <= 300:\n",
    "    n += 1\n",
    "    if n % 12 != 0:\n",
    "        continue\n",
    "    else:\n",
    "        print(n,\"es divisible por 12\")\n",
    "\n",
    "    \n",
    "\n",
    "    "
   ]
  },
  {
   "attachments": {},
   "cell_type": "markdown",
   "metadata": {},
   "source": [
    "13) Utilizar la función **input()** que permite hacer ingresos por teclado, para encontrar números primos y dar la opción al usario de buscar el siguiente"
   ]
  },
  {
   "cell_type": "code",
   "execution_count": 187,
   "metadata": {},
   "outputs": [
    {
     "name": "stdout",
     "output_type": "stream",
     "text": [
      "1\n",
      "desea encontrar el siguiente numero primo?\n",
      "2\n",
      "desea encontrar el siguiente numero primo?\n",
      "3\n",
      "desea encontrar el siguiente numero primo?\n",
      "5\n",
      "desea encontrar el siguiente numero primo?\n",
      "7\n",
      "desea encontrar el siguiente numero primo?\n",
      "11\n",
      "desea encontrar el siguiente numero primo?\n",
      "13\n",
      "desea encontrar el siguiente numero primo?\n",
      "17\n",
      "desea encontrar el siguiente numero primo?\n",
      "19\n",
      "desea encontrar el siguiente numero primo?\n",
      "23\n",
      "desea encontrar el siguiente numero primo?\n",
      "29\n",
      "desea encontrar el siguiente numero primo?\n",
      "31\n",
      "desea encontrar el siguiente numero primo?\n",
      "37\n",
      "desea encontrar el siguiente numero primo?\n",
      "41\n",
      "desea encontrar el siguiente numero primo?\n",
      "43\n",
      "desea encontrar el siguiente numero primo?\n",
      "se finaliza el proceso\n"
     ]
    }
   ],
   "source": [
    "n=1\n",
    "sigue=1\n",
    "primo=True\n",
    "while sigue == 1:\n",
    "    for i in range(2,n):\n",
    "        if n % i == 0:\n",
    "            primo=False\n",
    "            break\n",
    "    if primo:\n",
    "        print(n)\n",
    "        print(\"desea encontrar el siguiente numero primo?\")\n",
    "        if (input() != \"1\"):\n",
    "            print(\"se finaliza el proceso\")\n",
    "            break\n",
    "              \n",
    "        \n",
    "    else:\n",
    "        primo = True\n",
    "        \n",
    "    n+=1"
   ]
  },
  {
   "attachments": {},
   "cell_type": "markdown",
   "metadata": {},
   "source": [
    "14) Crear un ciclo while que encuentre dentro del rango de 100 a 300 el primer número divisible por 3 y además múltiplo de 6"
   ]
  },
  {
   "cell_type": "code",
   "execution_count": 189,
   "metadata": {},
   "outputs": [
    {
     "name": "stdout",
     "output_type": "stream",
     "text": [
      "el numero es 102\n"
     ]
    }
   ],
   "source": [
    "n=100\n",
    "while n <= 300:\n",
    "    if n % 6 == 0:\n",
    "        print(\"el numero es\",n)\n",
    "        break\n",
    "    n+=1"
   ]
  }
 ],
 "metadata": {
  "interpreter": {
   "hash": "c85384e4cb51c8b72350f3a8712cc8351fdc3955e32a27f9b60c6242ab125f01"
  },
  "kernelspec": {
   "display_name": "Python 3 (ipykernel)",
   "language": "python",
   "name": "python3"
  },
  "language_info": {
   "codemirror_mode": {
    "name": "ipython",
    "version": 3
   },
   "file_extension": ".py",
   "mimetype": "text/x-python",
   "name": "python",
   "nbconvert_exporter": "python",
   "pygments_lexer": "ipython3",
   "version": "3.11.6"
  }
 },
 "nbformat": 4,
 "nbformat_minor": 4
}
